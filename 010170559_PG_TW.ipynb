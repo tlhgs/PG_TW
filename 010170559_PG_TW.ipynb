{
 "cells": [
  {
   "cell_type": "code",
   "execution_count": null,
   "metadata": {},
   "outputs": [],
   "source": [
    "import math\n",
    "import pandas as pd\n",
    "import numpy as np"
   ]
  },
  {
   "cell_type": "code",
   "execution_count": null,
   "metadata": {},
   "outputs": [],
   "source": [
    "#Calculating geoid heights and adding them as columns into their dataframes\n",
    "tp = pd.read_table(\"testp.csv\", sep=\",\")\n",
    "tp[\"N\"] = tp[\"h\"] - tp[\"H\"]\n",
    "\n",
    "cp = pd.read_table(\"controlp.csv\", sep=\",\")\n",
    "cp[\"N\"] = cp[\"h\"] - cp[\"H\"]"
   ]
  },
  {
   "cell_type": "code",
   "execution_count": null,
   "metadata": {},
   "outputs": [],
   "source": [
    "#Calculation of A matrix based on control point coordinates\n",
    "list0 = []\n",
    "list1 = []\n",
    "list2 = []\n",
    "list3 = []\n",
    "\n",
    "for i in range(len(cp)):\n",
    "    c1 = np.cos(cp.at[i, \"Lat\"]*np.pi/180) * np.cos(cp.at[i, \"Long\"]*np.pi/180)\n",
    "    c2 = np.cos(cp.at[i, \"Lat\"]*np.pi/180) * np.sin(cp.at[i, \"Long\"]*np.pi/180)\n",
    "    c3 = np.sin(cp.at[i, \"Lat\"]*np.pi/180)\n",
    "    list0.append(1)\n",
    "    list1.append(c1)\n",
    "    list2.append(c2)\n",
    "    list3.append(c3)\n",
    "\n",
    "array0 = np.array(list0)\n",
    "array1 = np.array(list1)\n",
    "array2 = np.array(list2)\n",
    "array3 = np.array(list3)\n",
    "\n",
    "A_matrix_c = np.column_stack((array0, array1, array2, array3)) #A matrix created from control point coordinates\n",
    "A_matrix_T_c = A_matrix_c.transpose() #Transpose of A_matrix\n",
    "\n",
    "l_matrix_c = np.array(cp[\"N\"].to_numpy().reshape(-1,1)) #Reshaping l matrix to be used in calculations below\n",
    "\n",
    "x_matrix = np.dot(np.linalg.inv(np.dot(A_matrix_T_c, A_matrix_c)), np.dot(A_matrix_T_c, l_matrix_c)) #Matrix of unknowns\n",
    "\n",
    "v_matrix = np.subtract(np.dot(A_matrix_c, x_matrix), l_matrix_c) #Residual matrix"
   ]
  },
  {
   "cell_type": "code",
   "execution_count": null,
   "metadata": {},
   "outputs": [],
   "source": [
    "#Error estimation of coefficients:\n",
    "test1 = v_matrix * v_matrix\n",
    "\n",
    "PVV_1 = math.sqrt(np.sum(test1))\n",
    "m0_1 = math.sqrt(PVV_1 / (len(v_matrix)))\n",
    "\n",
    "Qxx = np.linalg.inv(np.dot(A_matrix_T_c, A_matrix_c))\n",
    "\n",
    "Qii = np.dot(np.dot(A_matrix_c, Qxx), A_matrix_T_c)\n",
    "\n",
    "coef = []\n",
    "for i in range(len(A_matrix_c)):\n",
    "    coef.append(m0_1*math.sqrt(Qii[i,i]))\n",
    "\n",
    "coef_final = np.array(coef).reshape(-1,1)"
   ]
  },
  {
   "cell_type": "code",
   "execution_count": null,
   "metadata": {},
   "outputs": [],
   "source": [
    "#Calculations on test points\n",
    "list4 = []\n",
    "list5 = []\n",
    "list6 = []\n",
    "list7 = []\n",
    "\n",
    "for i in range(len(tp)):\n",
    "    c1 = np.cos(tp.at[i, \"Lat\"]*np.pi/180) * np.cos(tp.at[i, \"Long\"]*np.pi/180)\n",
    "    c2 = np.cos(tp.at[i, \"Lat\"]*np.pi/180) * np.sin(tp.at[i, \"Long\"]*np.pi/180)\n",
    "    c3 = np.sin(tp.at[i, \"Lat\"]*np.pi/180)\n",
    "    list4.append(1)\n",
    "    list5.append(c1)\n",
    "    list6.append(c2)\n",
    "    list7.append(c3)\n",
    "\n",
    "array4 = np.array(list4)\n",
    "array5 = np.array(list5)\n",
    "array6 = np.array(list6)\n",
    "array7 = np.array(list7)\n",
    "\n",
    "l_matrix_t = np.array(tp[\"N\"].to_numpy().reshape(-1,1))\n",
    "A_matrix_t = np.column_stack((array4, array5, array6, array7))\n",
    "v_matrix_t = np.subtract(np.dot(A_matrix_t, x_matrix), l_matrix_t)\n",
    "\n",
    "tp[\"v\"] = v_matrix_t #Adding geoid height differences of test points and the geoid model to the dataframe"
   ]
  },
  {
   "cell_type": "code",
   "execution_count": null,
   "metadata": {},
   "outputs": [],
   "source": [
    "#Validation of the model using test points\n",
    "test2 = v_matrix_t * v_matrix_t\n",
    "PVV_2 = math.sqrt(np.sum(test2))\n",
    "m0_2 = math.sqrt(PVV_2 / (len(v_matrix_t) - 1))"
   ]
  },
  {
   "cell_type": "code",
   "execution_count": null,
   "metadata": {},
   "outputs": [],
   "source": [
    "print(\"m0 values:\\nControl points:\",round(m0_1*100,2),\"cm\\tTest points:\",round(m0_2*100,2),\"cm\")"
   ]
  },
  {
   "cell_type": "code",
   "execution_count": null,
   "metadata": {},
   "outputs": [],
   "source": [
    "import matplotlib.pyplot as plt\n",
    "from mpl_toolkits.mplot3d.axes3d import *"
   ]
  },
  {
   "cell_type": "code",
   "execution_count": null,
   "metadata": {},
   "outputs": [],
   "source": [
    "#PLOTS\n",
    "#Scatter plot of control and test points\n",
    "bg = plt.imread(\"base2.tif\")\n",
    "extent = (28.74, 29.16, 40.89, 41.26)\n",
    "plt.figure(figsize=(10, 10))\n",
    "plt.scatter(cp[\"Long\"], cp[\"Lat\"], c=cp[\"N\"], marker=\"o\", cmap=plt.cm.inferno)\n",
    "plt.scatter(tp[\"Long\"], tp[\"Lat\"], c=tp[\"N\"], marker=\"^\", cmap=plt.cm.inferno)\n",
    "plt.colorbar(label=\"Geoid height [m]\", fraction=0.040, pad=0.04)\n",
    "plt.clim(vmin = 35.975, vmax = 36.825)\n",
    "plt.imshow(bg, extent = extent)"
   ]
  },
  {
   "cell_type": "code",
   "execution_count": null,
   "metadata": {},
   "outputs": [],
   "source": [
    "#3D view of the surface using control points\n",
    "X = cp[\"Lat\"]\n",
    "Y = cp[\"Long\"]\n",
    "Z = cp[\"N\"]\n",
    "\n",
    "fig = plt.figure()\n",
    "ax = Axes3D(fig)\n",
    "ax.plot_trisurf(X, Y, Z, linewidth=1, antialiased=True, cmap = plt.cm.cool)\n",
    "plt.show()"
   ]
  },
  {
   "cell_type": "code",
   "execution_count": null,
   "metadata": {},
   "outputs": [],
   "source": [
    "import sys\n",
    "!{sys.executable} -m pip install plotly\n",
    "import plotly.graph_objects as go"
   ]
  },
  {
   "cell_type": "code",
   "execution_count": null,
   "metadata": {},
   "outputs": [],
   "source": [
    "#Calculation and plotting of model surface\n",
    "Z_model = np.dot(A_matrix_c, x_matrix)\n",
    "cp[\"Z\"] = np.array(Z_model).reshape(-1,1)\n",
    "\n",
    "fig = go.Figure(data=\n",
    "    go.Contour(\n",
    "        z=cp[\"Z\"],\n",
    "        x=Y,\n",
    "        y=X,\n",
    "        contours=dict(\n",
    "            coloring ='heatmap',\n",
    "            showlabels = True,\n",
    "            labelfont = dict( \n",
    "                size = 12,\n",
    "                color = 'white',\n",
    "            )\n",
    "        )))\n",
    "fig.update_yaxes(range=[40.89, 41.26])\n",
    "fig.update_xaxes(range=[28.74, 29.16])\n",
    "fig.update_layout(width=500, height=500)\n",
    "fig.show()"
   ]
  },
  {
   "cell_type": "code",
   "execution_count": null,
   "metadata": {},
   "outputs": [],
   "source": [
    "#Scatter plot of geoid height differences on test points:\n",
    "bg = plt.imread(\"base.tif\")\n",
    "extent = (28.74, 29.16, 40.89, 41.26)\n",
    "plt.figure(figsize=(10, 10))\n",
    "plt.scatter(tp[\"Long\"], tp[\"Lat\"], c=tp[\"v\"], marker=\"^\", cmap=plt.cm.inferno)\n",
    "plt.colorbar(label=\"Differences (cm)\", fraction=0.040, pad=0.04)\n",
    "plt.clim(vmin = -32.5, vmax = 22.5)\n",
    "plt.imshow(bg, extent = extent)"
   ]
  },
  {
   "cell_type": "code",
   "execution_count": null,
   "metadata": {},
   "outputs": [],
   "source": []
  }
 ],
 "metadata": {
  "kernelspec": {
   "display_name": "Python 3",
   "language": "python",
   "name": "python3"
  },
  "language_info": {
   "codemirror_mode": {
    "name": "ipython",
    "version": 3
   },
   "file_extension": ".py",
   "mimetype": "text/x-python",
   "name": "python",
   "nbconvert_exporter": "python",
   "pygments_lexer": "ipython3",
   "version": "3.8.2"
  }
 },
 "nbformat": 4,
 "nbformat_minor": 4
}
